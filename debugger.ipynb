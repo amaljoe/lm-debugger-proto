{
 "cells": [
  {
   "metadata": {
    "ExecuteTime": {
     "end_time": "2025-02-13T13:32:59.856235Z",
     "start_time": "2025-02-13T13:32:58.380356Z"
    }
   },
   "cell_type": "code",
   "source": [
    "import torch\n",
    "from transformers import GPT2LMHeadModel, GPT2Tokenizer, GPT2Model\n",
    "\n",
    "# Load pre-trained model and tokenizer\n",
    "model_name = \"gpt2-medium\"\n",
    "model = GPT2LMHeadModel.from_pretrained(model_name)\n",
    "tokenizer = GPT2Tokenizer.from_pretrained(model_name)\n",
    "\n",
    "# Set the model to evaluation mode\n",
    "model.eval()\n",
    "t: GPT2Model = model.transformer"
   ],
   "id": "f416ed2eeb3bdf7d",
   "outputs": [],
   "execution_count": 29
  },
  {
   "metadata": {
    "ExecuteTime": {
     "end_time": "2025-02-13T13:33:00.736153Z",
     "start_time": "2025-02-13T13:33:00.711293Z"
    }
   },
   "cell_type": "code",
   "source": [
    "# Value Vector Projection\n",
    "\n",
    "def get_top_k_tokens(rep, k=5):\n",
    "    prob = torch.softmax(model.transformer.wte.weight @ rep, dim=-1)\n",
    "    prob, indices = torch.topk(prob, 5)\n",
    "    return [tokenizer.decode(i) for i in indices]\n",
    "\n",
    "def get_value_vector_tokens(layer, dim):\n",
    "    return get_top_k_tokens(t.h[layer].mlp.c_proj.weight[dim])\n",
    "\n",
    "get_value_vector_tokens(layer=17, dim=2940)"
   ],
   "id": "901b4c787e84a7be",
   "outputs": [
    {
     "data": {
      "text/plain": [
       "['cold', ' colder', ' precipitation', ' frost', 'clone']"
      ]
     },
     "execution_count": 30,
     "metadata": {},
     "output_type": "execute_result"
    }
   ],
   "execution_count": 30
  },
  {
   "metadata": {
    "ExecuteTime": {
     "end_time": "2025-02-13T13:15:05.976641Z",
     "start_time": "2025-02-13T13:15:05.973402Z"
    }
   },
   "cell_type": "code",
   "source": "t.h[17].mlp.c_fc",
   "id": "a30e04c662f64793",
   "outputs": [
    {
     "data": {
      "text/plain": [
       "Conv1D(nf=4096, nx=1024)"
      ]
     },
     "execution_count": 10,
     "metadata": {},
     "output_type": "execute_result"
    }
   ],
   "execution_count": 10
  },
  {
   "metadata": {
    "ExecuteTime": {
     "end_time": "2025-02-13T13:34:59.778840Z",
     "start_time": "2025-02-13T13:34:58.449121Z"
    }
   },
   "cell_type": "code",
   "source": [
    "# Before and After Layer Representation\n",
    "# Dominant Sub Updates\n",
    "# Intervention\n",
    "\n",
    "interventions = {\n",
    "    10: [3141],\n",
    "    17: [115]\n",
    "}\n",
    "\n",
    "# interventions = {}\n",
    "\n",
    "def hook(_, args, output, idx):\n",
    "    input_vec = args[0][0,-1,:]\n",
    "    output_vec = output[0][0,-1,:]\n",
    "    print(f\"Input: {get_top_k_tokens(t.ln_f(input_vec))}\")\n",
    "    print(f\"Output: {get_top_k_tokens(t.ln_f(output_vec))}\")\n",
    "    \n",
    "def proj_hook(module, args, output, idx):\n",
    "    coeff_vec = args[0][0,-1,:]\n",
    "    value_norms = torch.linalg.norm(module.weight.data, dim=1)\n",
    "    scaled_coefs = torch.absolute(coeff_vec) * value_norms\n",
    "    if idx not in interventions:\n",
    "        print(f\"\\n------Layer {idx}------\")\n",
    "    subupdates = list(enumerate(scaled_coefs))\n",
    "    subupdates = sorted(subupdates, key=lambda x: x[1], reverse=True)\n",
    "    print(f\"Dominant sub updates: {subupdates[:10]}\")\n",
    "    \n",
    "def intervene_hook(module, args, output, idx):\n",
    "    if idx not in interventions:\n",
    "        return\n",
    "    print(f\"\\n------Layer {idx}------\")\n",
    "    print(f\"Intervention(s) at layer {idx}: {[f\"L{idx}D{dim}\" for dim in interventions[idx]]}\")\n",
    "    coeff_vec = output[0,-1,:]\n",
    "    c_proj = t.h[idx].mlp.c_proj\n",
    "    value_norms = torch.linalg.norm(c_proj.weight.data, dim=1)\n",
    "    scaled_coefs = torch.absolute(coeff_vec) * value_norms\n",
    "    max_coeff = torch.max(scaled_coefs)\n",
    "    for dim in interventions[idx]:\n",
    "        output[0,-1,dim] = max_coeff\n",
    "    return output\n",
    "        \n",
    "        \n",
    "\n",
    "hooks = []\n",
    "for i, layer in enumerate(t.h[:]):\n",
    "    h1 = layer.register_forward_hook(\n",
    "        lambda module, args, output, idx=i: hook(module, args, output, idx)\n",
    "    )\n",
    "    h2 = layer.mlp.c_proj.register_forward_hook(\n",
    "        lambda module, args, output, idx=i: proj_hook(module, args, output, idx)\n",
    "    )\n",
    "    h3 = layer.mlp.c_fc.register_forward_hook(\n",
    "        lambda module, args, output, idx=i: intervene_hook(module, args, output, idx)\n",
    "    )\n",
    "    \n",
    "    hooks.append(h1)\n",
    "    hooks.append(h2)\n",
    "    hooks.append(h3)\n",
    "\n",
    "try:\n",
    "    # Run the model to get outputs and capture intermediate representations\n",
    "    input = tokenizer.encode(\"My wife is working as a\", return_tensors=\"pt\")\n",
    "    with torch.no_grad():\n",
    "        outputs = model(input)\n",
    "    logits = outputs.logits\n",
    "    generated_ids = torch.argmax(logits, dim=-1)\n",
    "    generated_text = tokenizer.decode(generated_ids[0][-1])\n",
    "    print(f\"\\nGenerated next token: {generated_text}\")\n",
    "except Exception as e:\n",
    "    print(e)\n",
    "\n",
    "# Remove the hooks\n",
    "for h in hooks:\n",
    "    h.remove()"
   ],
   "id": "a557b60a47ac887a",
   "outputs": [
    {
     "name": "stdout",
     "output_type": "stream",
     "text": [
      "\n",
      "------Layer 0------\n",
      "Dominant sub updates: [(366, tensor(21.2909)), (1198, tensor(19.1944)), (4055, tensor(16.5859)), (798, tensor(13.8921)), (1254, tensor(12.9030)), (284, tensor(10.8873)), (2121, tensor(9.0504)), (3969, tensor(7.6568)), (1619, tensor(7.3107)), (2938, tensor(6.8245))]\n",
      "Input: [' unden', ' helicop', ' streng', ' enthusi', ' notor']\n",
      "Output: [' completely', ' \"', ' fully', ' particularly', ' certain']\n",
      "\n",
      "------Layer 1------\n",
      "Dominant sub updates: [(3460, tensor(9.6827)), (736, tensor(7.8470)), (51, tensor(4.0347)), (676, tensor(3.5699)), (1922, tensor(3.4282)), (1091, tensor(2.9955)), (2945, tensor(2.5733)), (2023, tensor(2.3635)), (3026, tensor(2.2193)), (3205, tensor(1.9815))]\n",
      "Input: [' completely', ' \"', ' fully', ' particularly', ' certain']\n",
      "Output: [' particularly', ' \"', ' single', ' completely', ' fully']\n",
      "\n",
      "------Layer 2------\n",
      "Dominant sub updates: [(609, tensor(2.9426)), (2718, tensor(2.5653)), (2520, tensor(2.2043)), (3131, tensor(2.1944)), (3524, tensor(2.0022)), (3857, tensor(1.7079)), (2102, tensor(1.1800)), (2107, tensor(1.1212)), (1651, tensor(1.0715)), (1789, tensor(1.0050))]\n",
      "Input: [' particularly', ' \"', ' single', ' completely', ' fully']\n",
      "Output: [' particularly', ' single', ' \"', ' piece', ' very']\n",
      "\n",
      "------Layer 3------\n",
      "Dominant sub updates: [(1791, tensor(7.2793)), (2421, tensor(2.9755)), (1845, tensor(2.7151)), (3206, tensor(2.0471)), (2077, tensor(2.0403)), (1642, tensor(1.5983)), (1214, tensor(1.5837)), (3131, tensor(1.5777)), (161, tensor(1.5637)), (1157, tensor(1.5494))]\n",
      "Input: [' particularly', ' single', ' \"', ' piece', ' very']\n",
      "Output: [' separate', ' very', ' single', ' well', ' particularly']\n",
      "\n",
      "------Layer 4------\n",
      "Dominant sub updates: [(1501, tensor(5.6482)), (3930, tensor(5.1863)), (2382, tensor(3.9326)), (597, tensor(3.6847)), (1832, tensor(3.1361)), (1751, tensor(3.0315)), (3744, tensor(2.8310)), (2152, tensor(2.8104)), (1222, tensor(2.6886)), (2764, tensor(2.6232))]\n",
      "Input: [' separate', ' very', ' single', ' well', ' particularly']\n",
      "Output: [' separate', ' member', ' part', ' single', ' well']\n",
      "\n",
      "------Layer 5------\n",
      "Dominant sub updates: [(1257, tensor(5.5890)), (3335, tensor(4.8701)), (549, tensor(4.6433)), (54, tensor(4.5460)), (198, tensor(4.1062)), (2365, tensor(3.9767)), (3094, tensor(3.8476)), (2667, tensor(3.7457)), (686, tensor(3.4361)), (2007, tensor(3.3904))]\n",
      "Input: [' separate', ' member', ' part', ' single', ' well']\n",
      "Output: [' member', ' part', ' separate', ' host', ' single']\n",
      "\n",
      "------Layer 6------\n",
      "Dominant sub updates: [(3212, tensor(6.7704)), (3375, tensor(6.2578)), (859, tensor(5.0029)), (301, tensor(4.3565)), (1556, tensor(4.3380)), (758, tensor(4.3321)), (3141, tensor(4.2136)), (1243, tensor(4.1153)), (1687, tensor(3.9407)), (3888, tensor(3.1768))]\n",
      "Input: [' member', ' part', ' separate', ' host', ' single']\n",
      "Output: [' part', ' separate', ' member', ' full', ' very']\n",
      "\n",
      "------Layer 7------\n",
      "Dominant sub updates: [(1556, tensor(7.9521)), (1187, tensor(6.3617)), (3765, tensor(5.7938)), (2072, tensor(5.6778)), (1025, tensor(5.1277)), (1146, tensor(4.1130)), (4017, tensor(4.0860)), (2031, tensor(4.0136)), (2437, tensor(3.9679)), (414, tensor(3.8084))]\n",
      "Input: [' part', ' separate', ' member', ' full', ' very']\n",
      "Output: [' part', ' separate', ' parallel', ' well', ' member']\n",
      "\n",
      "------Layer 8------\n",
      "Dominant sub updates: [(1841, tensor(5.2167)), (3929, tensor(4.4131)), (1055, tensor(4.1130)), (593, tensor(3.2746)), (2179, tensor(3.2558)), (906, tensor(3.2462)), (251, tensor(3.0709)), (2097, tensor(2.9982)), (1637, tensor(2.9438)), (2065, tensor(2.9428))]\n",
      "Input: [' part', ' separate', ' parallel', ' well', ' member']\n",
      "Output: [' part', ' well', ' consultant', ' regular', ' full']\n",
      "\n",
      "------Layer 9------\n",
      "Dominant sub updates: [(1752, tensor(12.7507)), (3216, tensor(8.0670)), (1903, tensor(5.3074)), (854, tensor(5.1587)), (3043, tensor(4.7883)), (1589, tensor(4.2322)), (1692, tensor(3.7020)), (1584, tensor(3.5916)), (3855, tensor(3.2261)), (813, tensor(2.9576))]\n",
      "Input: [' part', ' well', ' consultant', ' regular', ' full']\n",
      "Output: [' part', ' well', ' consultant', ' member', ' non']\n",
      "\n",
      "------Layer 10------\n",
      "Intervention(s) at layer 10: ['L10D3141']\n",
      "Dominant sub updates: [(3141, tensor(61.8042)), (3095, tensor(6.3257)), (2673, tensor(6.1288)), (2947, tensor(5.3637)), (1598, tensor(5.1043)), (3883, tensor(4.8446)), (1499, tensor(4.0858)), (485, tensor(3.8647)), (3348, tensor(3.8281)), (4048, tensor(3.7773))]\n",
      "Input: [' part', ' well', ' consultant', ' member', ' non']\n",
      "Output: [' software', ' product', ' partner', ' developer', ' consultant']\n",
      "\n",
      "------Layer 11------\n",
      "Dominant sub updates: [(68, tensor(9.7380)), (2401, tensor(9.0490)), (1381, tensor(8.0457)), (158, tensor(6.9519)), (2921, tensor(6.7199)), (3308, tensor(6.5820)), (2918, tensor(5.7798)), (2684, tensor(5.2127)), (2068, tensor(5.1256)), (847, tensor(4.9117))]\n",
      "Input: [' software', ' product', ' partner', ' developer', ' consultant']\n",
      "Output: [' part', ' full', ' non', ' software', ' member']\n",
      "\n",
      "------Layer 12------\n",
      "Dominant sub updates: [(661, tensor(8.7843)), (103, tensor(5.3146)), (2131, tensor(5.2014)), (591, tensor(4.9240)), (2342, tensor(4.5748)), (2135, tensor(4.2173)), (3115, tensor(3.9721)), (2791, tensor(3.9404)), (220, tensor(3.8163)), (3668, tensor(3.5526))]\n",
      "Input: [' part', ' full', ' non', ' software', ' member']\n",
      "Output: [' part', ' non', ' full', ' well', ' computer']\n",
      "\n",
      "------Layer 13------\n",
      "Dominant sub updates: [(3042, tensor(10.2895)), (3930, tensor(9.2830)), (2027, tensor(8.0497)), (3926, tensor(6.0560)), (1725, tensor(4.8937)), (3406, tensor(3.9720)), (2972, tensor(3.8983)), (2081, tensor(3.8292)), (1666, tensor(3.4328)), (3852, tensor(3.3958))]\n",
      "Input: [' part', ' non', ' full', ' well', ' computer']\n",
      "Output: [' non', ' consultant', ' part', ' member', ' freel']\n",
      "\n",
      "------Layer 14------\n",
      "Dominant sub updates: [(3645, tensor(9.2833)), (3722, tensor(8.7062)), (3729, tensor(5.3758)), (3181, tensor(4.6180)), (2287, tensor(4.5737)), (202, tensor(4.2136)), (3797, tensor(4.1063)), (3135, tensor(3.8163)), (767, tensor(3.8102)), (188, tensor(3.7591))]\n",
      "Input: [' non', ' consultant', ' part', ' member', ' freel']\n",
      "Output: [' consultant', ' non', ' member', ' part', ' freelance']\n",
      "\n",
      "------Layer 15------\n",
      "Dominant sub updates: [(701, tensor(11.2586)), (1960, tensor(8.3434)), (1021, tensor(7.3801)), (109, tensor(6.9037)), (2765, tensor(5.8348)), (3811, tensor(5.2948)), (1167, tensor(4.8542)), (1431, tensor(4.5416)), (3355, tensor(4.4923)), (2486, tensor(4.4819))]\n",
      "Input: [' consultant', ' non', ' member', ' part', ' freelance']\n",
      "Output: [' consultant', ' non', ' freelance', ' full', ' member']\n",
      "\n",
      "------Layer 16------\n",
      "Dominant sub updates: [(140, tensor(13.4311)), (918, tensor(12.3001)), (713, tensor(8.5702)), (3696, tensor(8.4642)), (441, tensor(7.2261)), (3726, tensor(6.1379)), (2292, tensor(5.6108)), (1084, tensor(5.5426)), (2179, tensor(4.9441)), (2324, tensor(4.7194))]\n",
      "Input: [' consultant', ' non', ' freelance', ' full', ' member']\n",
      "Output: [' freelance', ' consultant', ' freel', ' non', ' professional']\n",
      "\n",
      "------Layer 17------\n",
      "Intervention(s) at layer 17: ['L17D115']\n",
      "Dominant sub updates: [(115, tensor(131.0310)), (1492, tensor(17.8348)), (2518, tensor(11.6185)), (188, tensor(8.9526)), (1798, tensor(8.6020)), (1918, tensor(7.5041)), (2016, tensor(6.3023)), (108, tensor(5.9692)), (2948, tensor(5.8768)), (442, tensor(5.5769))]\n",
      "Input: [' freelance', ' consultant', ' freel', ' non', ' professional']\n",
      "Output: [' software', ' developer', ' consultant', ' customer', ' certified']\n",
      "\n",
      "------Layer 18------\n",
      "Dominant sub updates: [(509, tensor(15.0003)), (919, tensor(11.9361)), (685, tensor(11.4025)), (2681, tensor(11.2317)), (3592, tensor(10.7377)), (148, tensor(10.6062)), (3626, tensor(10.1943)), (1670, tensor(10.0519)), (3317, tensor(9.6490)), (3331, tensor(9.3888))]\n",
      "Input: [' software', ' developer', ' consultant', ' customer', ' certified']\n",
      "Output: [' developer', ' software', ' consultant', ' customer', ' programmer']\n",
      "\n",
      "------Layer 19------\n",
      "Dominant sub updates: [(526, tensor(13.2189)), (2191, tensor(12.8117)), (3276, tensor(11.7776)), (3788, tensor(11.5292)), (755, tensor(10.1242)), (1920, tensor(9.1217)), (2109, tensor(8.9954)), (702, tensor(8.6932)), (1091, tensor(8.1668)), (2485, tensor(8.1147))]\n",
      "Input: [' developer', ' software', ' consultant', ' customer', ' programmer']\n",
      "Output: [' developer', ' software', ' customer', ' consultant', ' programmer']\n",
      "\n",
      "------Layer 20------\n",
      "Dominant sub updates: [(2820, tensor(20.7867)), (2714, tensor(16.9970)), (3518, tensor(15.4083)), (1979, tensor(9.0908)), (1344, tensor(8.9258)), (1916, tensor(8.9243)), (1375, tensor(8.9026)), (3329, tensor(8.8128)), (1404, tensor(8.3099)), (1276, tensor(8.0811))]\n",
      "Input: [' developer', ' software', ' customer', ' consultant', ' programmer']\n",
      "Output: [' developer', ' software', ' customer', ' consultant', ' programmer']\n",
      "\n",
      "------Layer 21------\n",
      "Dominant sub updates: [(3336, tensor(22.8443)), (3638, tensor(20.8599)), (2886, tensor(16.8581)), (1402, tensor(14.2613)), (739, tensor(12.2076)), (3221, tensor(12.1258)), (1010, tensor(12.0781)), (3062, tensor(10.2283)), (178, tensor(9.9824)), (1012, tensor(9.8029))]\n",
      "Input: [' developer', ' software', ' customer', ' consultant', ' programmer']\n",
      "Output: [' developer', ' software', ' programmer', ' consultant', ' customer']\n",
      "\n",
      "------Layer 22------\n",
      "Dominant sub updates: [(3980, tensor(50.2878)), (2624, tensor(35.4302)), (17, tensor(27.3174)), (3015, tensor(23.4032)), (535, tensor(19.5832)), (1005, tensor(19.0852)), (1920, tensor(18.5885)), (3516, tensor(17.9819)), (2679, tensor(16.6723)), (681, tensor(10.8841))]\n",
      "Input: [' developer', ' software', ' programmer', ' consultant', ' customer']\n",
      "Output: [' software', ' developer', ' consultant', ' programmer', ' customer']\n",
      "\n",
      "------Layer 23------\n",
      "Dominant sub updates: [(816, tensor(36.3167)), (3401, tensor(34.3193)), (2345, tensor(29.5074)), (3369, tensor(16.1822)), (420, tensor(15.4226)), (3383, tensor(14.2263)), (650, tensor(12.8568)), (897, tensor(11.9561)), (655, tensor(11.5097)), (438, tensor(11.4638))]\n",
      "Input: [' software', ' developer', ' consultant', ' programmer', ' customer']\n",
      "Output: [' software', ' developer', ' programmer', ' consultant', ' customer']\n",
      "\n",
      "Generated next token:  software\n"
     ]
    }
   ],
   "execution_count": 39
  }
 ],
 "metadata": {
  "kernelspec": {
   "display_name": "Python 3",
   "language": "python",
   "name": "python3"
  },
  "language_info": {
   "codemirror_mode": {
    "name": "ipython",
    "version": 2
   },
   "file_extension": ".py",
   "mimetype": "text/x-python",
   "name": "python",
   "nbconvert_exporter": "python",
   "pygments_lexer": "ipython2",
   "version": "2.7.6"
  }
 },
 "nbformat": 4,
 "nbformat_minor": 5
}
